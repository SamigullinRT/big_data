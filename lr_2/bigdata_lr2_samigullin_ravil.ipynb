{
  "nbformat": 4,
  "nbformat_minor": 0,
  "metadata": {
    "colab": {
      "provenance": [],
      "include_colab_link": true
    },
    "kernelspec": {
      "name": "python3",
      "display_name": "Python 3"
    },
    "language_info": {
      "name": "python"
    }
  },
  "cells": [
    {
      "cell_type": "markdown",
      "metadata": {
        "id": "view-in-github",
        "colab_type": "text"
      },
      "source": [
        "<a href=\"https://colab.research.google.com/github/SamigullinRT/big_data/blob/main/lr_2/bigdata_lr2_samigullin_ravil.ipynb\" target=\"_parent\"><img src=\"https://colab.research.google.com/assets/colab-badge.svg\" alt=\"Open In Colab\"/></a>"
      ]
    },
    {
      "cell_type": "markdown",
      "source": [
        "# Самигуллин Равиль гр 6133"
      ],
      "metadata": {
        "id": "8AoNDCXvlgYe"
      }
    },
    {
      "cell_type": "markdown",
      "source": [
        "# Задание на Лабораторную работу №2"
      ],
      "metadata": {
        "id": "Y-D-bmvPloYX"
      }
    },
    {
      "cell_type": "markdown",
      "source": [
        "\n",
        "1. Сформировать отчёт с информацией о 10 наиболее популярных языках программирования по итогам года за период с 2010 по 2020 годы. Отчёт будет отражать динамику изменения популярности языков программирования и представлять собой набор таблиц \"топ-10\" для каждого года.\n",
        "2. Получившийся отчёт сохранить в формате Apache Parquet."
      ],
      "metadata": {
        "id": "48bAmDWil0TW"
      }
    },
    {
      "cell_type": "markdown",
      "source": [
        "# 1. Настройка окружения"
      ],
      "metadata": {
        "id": "1J_pxd-rl8G-"
      }
    },
    {
      "cell_type": "code",
      "execution_count": 2,
      "metadata": {
        "colab": {
          "base_uri": "https://localhost:8080/"
        },
        "id": "I3GF_olsfb8R",
        "outputId": "036ccecf-b7f2-4717-e0ab-7f0510d5c530"
      },
      "outputs": [
        {
          "output_type": "stream",
          "name": "stdout",
          "text": [
            "Collecting pyspark\n",
            "  Downloading pyspark-3.5.0.tar.gz (316.9 MB)\n",
            "\u001b[2K     \u001b[90m━━━━━━━━━━━━━━━━━━━━━━━━━━━━━━━━━━━━━━━━\u001b[0m \u001b[32m316.9/316.9 MB\u001b[0m \u001b[31m2.8 MB/s\u001b[0m eta \u001b[36m0:00:00\u001b[0m\n",
            "\u001b[?25h  Preparing metadata (setup.py) ... \u001b[?25l\u001b[?25hdone\n",
            "Requirement already satisfied: py4j==0.10.9.7 in /usr/local/lib/python3.10/dist-packages (from pyspark) (0.10.9.7)\n",
            "Building wheels for collected packages: pyspark\n",
            "  Building wheel for pyspark (setup.py) ... \u001b[?25l\u001b[?25hdone\n",
            "  Created wheel for pyspark: filename=pyspark-3.5.0-py2.py3-none-any.whl size=317425345 sha256=b75687fd8ab2e9194c571266dd5b982e13a3696671f2ace65bff664c0276dda5\n",
            "  Stored in directory: /root/.cache/pip/wheels/41/4e/10/c2cf2467f71c678cfc8a6b9ac9241e5e44a01940da8fbb17fc\n",
            "Successfully built pyspark\n",
            "Installing collected packages: pyspark\n",
            "Successfully installed pyspark-3.5.0\n"
          ]
        }
      ],
      "source": [
        "# устанавливаю pyspark\n",
        "!pip install pyspark"
      ]
    },
    {
      "cell_type": "code",
      "source": [
        "# Добавляю гугл диск с данными\n",
        "from google.colab import drive\n",
        "drive.mount('/content/drive')"
      ],
      "metadata": {
        "id": "5rlX53O2nQpl",
        "colab": {
          "base_uri": "https://localhost:8080/"
        },
        "outputId": "2db5234c-c73f-4c25-8a3e-789e13d93620"
      },
      "execution_count": 3,
      "outputs": [
        {
          "output_type": "stream",
          "name": "stdout",
          "text": [
            "Mounted at /content/drive\n"
          ]
        }
      ]
    },
    {
      "cell_type": "code",
      "source": [
        "# Импортирую библиотеки\n",
        "import pyspark\n",
        "import os\n",
        "from datetime import datetime\n",
        "from pyspark.sql.functions import col\n",
        "from pyspark.sql import SparkSession\n",
        "from pyspark import SparkContext, SparkConf\n",
        "from pyspark.sql.types import StructType, StructField, StringType, DateType"
      ],
      "metadata": {
        "id": "1hWEMt_8mMyM"
      },
      "execution_count": 4,
      "outputs": []
    },
    {
      "cell_type": "markdown",
      "source": [
        "# 2. Создаю проект и проверяю его работо способность"
      ],
      "metadata": {
        "id": "MJOWdb8amWle"
      }
    },
    {
      "cell_type": "code",
      "source": [
        "# Создание точки конфигурации\n",
        "os.environ['PYSPARK_SUBMIT_ARGS'] = '--packages com.databricks:spark-xml_2.12:0.13.0 pyspark-shell'\n",
        "sc = SparkSession.builder.appName(\"L2ApacheReports\").master(\"local[*]\").getOrCreate()\n",
        "# Проверка установки\n",
        "sc"
      ],
      "metadata": {
        "colab": {
          "base_uri": "https://localhost:8080/",
          "height": 219
        },
        "id": "1mWMD0wrmSXX",
        "outputId": "2a746559-1fde-4b2e-e95c-85ce4abfd1c2"
      },
      "execution_count": 5,
      "outputs": [
        {
          "output_type": "execute_result",
          "data": {
            "text/plain": [
              "<pyspark.sql.session.SparkSession at 0x7922d727ce20>"
            ],
            "text/html": [
              "\n",
              "            <div>\n",
              "                <p><b>SparkSession - in-memory</b></p>\n",
              "                \n",
              "        <div>\n",
              "            <p><b>SparkContext</b></p>\n",
              "\n",
              "            <p><a href=\"http://1296cee74f7a:4040\">Spark UI</a></p>\n",
              "\n",
              "            <dl>\n",
              "              <dt>Version</dt>\n",
              "                <dd><code>v3.5.0</code></dd>\n",
              "              <dt>Master</dt>\n",
              "                <dd><code>local[*]</code></dd>\n",
              "              <dt>AppName</dt>\n",
              "                <dd><code>L2ApacheReports</code></dd>\n",
              "            </dl>\n",
              "        </div>\n",
              "        \n",
              "            </div>\n",
              "        "
            ]
          },
          "metadata": {},
          "execution_count": 5
        }
      ]
    },
    {
      "cell_type": "markdown",
      "source": [
        "# 3. Загрузка данных"
      ],
      "metadata": {
        "id": "uDFgvHfanITI"
      }
    },
    {
      "cell_type": "code",
      "source": [
        "listProgLanguages = sc.read.csv(\"/content/drive/MyDrive/bigdata/programming-languages.csv\")"
      ],
      "metadata": {
        "id": "DDH1uwVWmua_"
      },
      "execution_count": 6,
      "outputs": []
    },
    {
      "cell_type": "markdown",
      "source": [
        "Вернем список языков"
      ],
      "metadata": {
        "id": "0_6GUvN6eNT3"
      }
    },
    {
      "cell_type": "code",
      "source": [
        "languageList = [str(x[0]) for x in listProgLanguages.collect()]\n",
        "languageList[:5]"
      ],
      "metadata": {
        "id": "ZCDWxO1KnLJn",
        "colab": {
          "base_uri": "https://localhost:8080/"
        },
        "outputId": "2e9acbf9-daf8-47d0-8d91-56e4419d50ef"
      },
      "execution_count": 7,
      "outputs": [
        {
          "output_type": "execute_result",
          "data": {
            "text/plain": [
              "['name', 'A# .NET', 'A# (Axiom)', 'A-0 System', 'A+']"
            ]
          },
          "metadata": {},
          "execution_count": 7
        }
      ]
    },
    {
      "cell_type": "markdown",
      "source": [
        "Удаляем первый элемент"
      ],
      "metadata": {
        "id": "1ZH1gJBKec5Y"
      }
    },
    {
      "cell_type": "code",
      "source": [
        "languageList.pop(0)"
      ],
      "metadata": {
        "id": "LsieExDwnPYN",
        "colab": {
          "base_uri": "https://localhost:8080/",
          "height": 36
        },
        "outputId": "c40f1616-9a7f-4cfc-8200-e5e9a11de999"
      },
      "execution_count": 8,
      "outputs": [
        {
          "output_type": "execute_result",
          "data": {
            "text/plain": [
              "'name'"
            ],
            "application/vnd.google.colaboratory.intrinsic+json": {
              "type": "string"
            }
          },
          "metadata": {},
          "execution_count": 8
        }
      ]
    },
    {
      "cell_type": "code",
      "source": [
        "languageList[:5]"
      ],
      "metadata": {
        "id": "zv4LZO7RnTk_",
        "colab": {
          "base_uri": "https://localhost:8080/"
        },
        "outputId": "6eb6f2fc-c0fe-4950-9ae5-4854b2b2f95a"
      },
      "execution_count": 9,
      "outputs": [
        {
          "output_type": "execute_result",
          "data": {
            "text/plain": [
              "['A# .NET', 'A# (Axiom)', 'A-0 System', 'A+', 'A++']"
            ]
          },
          "metadata": {},
          "execution_count": 9
        }
      ]
    },
    {
      "cell_type": "code",
      "source": [
        "postsSampleData = sc.read.format(\"xml\").options(rowTag=\"row\").load('/content/drive/MyDrive/bigdata/posts_sample.xml')"
      ],
      "metadata": {
        "id": "AkA65kG2GU15"
      },
      "execution_count": 10,
      "outputs": []
    },
    {
      "cell_type": "code",
      "source": [
        "postsSampleData.take(1)"
      ],
      "metadata": {
        "id": "yInwCmzBGXkB",
        "colab": {
          "base_uri": "https://localhost:8080/"
        },
        "outputId": "25c3e38d-49f3-4afa-f50a-5421a874b64f"
      },
      "execution_count": 11,
      "outputs": [
        {
          "output_type": "execute_result",
          "data": {
            "text/plain": [
              "[Row(_AcceptedAnswerId=7, _AnswerCount=13, _Body=\"<p>I want to use a track-bar to change a form's opacity.</p>\\n\\n<p>This is my code:</p>\\n\\n<pre><code>decimal trans = trackBar1.Value / 5000;\\nthis.Opacity = trans;\\n</code></pre>\\n\\n<p>When I build the application, it gives the following error:</p>\\n\\n<blockquote>\\n  <p>Cannot implicitly convert type <code>'decimal'</code> to <code>'double'</code></p>\\n</blockquote>\\n\\n<p>I tried using <code>trans</code> and <code>double</code> but then the control doesn't work. This code worked fine in a past VB.NET project.</p>\\n\", _ClosedDate=None, _CommentCount=2, _CommunityOwnedDate=datetime.datetime(2012, 10, 31, 16, 42, 47, 213000), _CreationDate=datetime.datetime(2008, 7, 31, 21, 42, 52, 667000), _FavoriteCount=48, _Id=4, _LastActivityDate=datetime.datetime(2019, 7, 19, 1, 39, 54, 173000), _LastEditDate=datetime.datetime(2019, 7, 19, 1, 39, 54, 173000), _LastEditorDisplayName='Rich B', _LastEditorUserId=3641067, _OwnerDisplayName=None, _OwnerUserId=8, _ParentId=None, _PostTypeId=1, _Score=630, _Tags='<c#><floating-point><type-conversion><double><decimal>', _Title='Convert Decimal to Double?', _ViewCount=42817)]"
            ]
          },
          "metadata": {},
          "execution_count": 11
        }
      ]
    },
    {
      "cell_type": "markdown",
      "source": [
        "## Задача 1. Формирование отчетов."
      ],
      "metadata": {
        "id": "umQbkHFfqIiF"
      }
    },
    {
      "cell_type": "markdown",
      "source": [
        "Фильтр языка программирования."
      ],
      "metadata": {
        "id": "GAwFu6HjsORa"
      }
    },
    {
      "cell_type": "code",
      "source": [
        "def detectionProgLanguage(x):\n",
        "    tag = next((language for language in languageList if \"<\" + language.lower() + \">\" in x._Tags.lower()), None)\n",
        "    return None if tag is None else (x._Id, tag)"
      ],
      "metadata": {
        "id": "hJvo5dQZnY8m"
      },
      "execution_count": 16,
      "outputs": []
    },
    {
      "cell_type": "markdown",
      "source": [
        "Напишем функцию фильтрации по датам для получения списков топа по годам."
      ],
      "metadata": {
        "id": "zYD-L4C6rJLe"
      }
    },
    {
      "cell_type": "code",
      "source": [
        "def detectionYear(x, year):\n",
        "    start = datetime(year=year, month=1, day=1)\n",
        "    end = datetime(year=year, month=12, day=31)\n",
        "    return start <= x._CreationDate <= end"
      ],
      "metadata": {
        "id": "Fd3i3_-3ncFY"
      },
      "execution_count": 17,
      "outputs": []
    },
    {
      "cell_type": "code",
      "source": [
        "from pyspark.sql import functions as F\n",
        "\n",
        "selection_prog_language = {}\n",
        "years = range(2010, 2020)\n",
        "\n",
        "for year in years:\n",
        "    selection_prog_language[year] = (\n",
        "        postsSampleData.rdd\n",
        "        .filter(lambda x: x._Tags is not None and detectionYear(x, year))\n",
        "        .map(detectionProgLanguage)\n",
        "        .filter(lambda x: x is not None)\n",
        "        .keyBy(lambda x: x[1])\n",
        "        .aggregateByKey(0, lambda x, y: x + 1, lambda x1, x2: x1 + x2)\n",
        "        .sortBy(lambda x: x[1], ascending=False)\n",
        "        .toDF()\n",
        "    )\n",
        "    selection_prog_language[year] = (\n",
        "        selection_prog_language[year]\n",
        "        .select(F.col(\"_1\").alias(\"Programming_language\"), F.col(\"_2\").alias(f\"Number_of_mentions_in_{year}\"))\n",
        "        .limit(10)\n",
        "    )"
      ],
      "metadata": {
        "id": "as5D-fMbnef_"
      },
      "execution_count": 18,
      "outputs": []
    },
    {
      "cell_type": "markdown",
      "source": [
        "Выводим отчеты"
      ],
      "metadata": {
        "id": "ZrjABTOCp_80"
      }
    },
    {
      "cell_type": "code",
      "source": [
        "for year in range(2010, 2020):\n",
        "  selectionProgLanguage[year].show()"
      ],
      "metadata": {
        "id": "36wEmyA-njTX",
        "colab": {
          "base_uri": "https://localhost:8080/"
        },
        "outputId": "41fedbb2-435f-4949-f102-d6474a23e841"
      },
      "execution_count": 19,
      "outputs": [
        {
          "output_type": "stream",
          "name": "stdout",
          "text": [
            "+--------------------+--------------------------+\n",
            "|Programming_language|Number_of_mentions_in_2010|\n",
            "+--------------------+--------------------------+\n",
            "|                Java|                        52|\n",
            "|          JavaScript|                        44|\n",
            "|                 PHP|                        42|\n",
            "|              Python|                        25|\n",
            "|         Objective-C|                        22|\n",
            "|                   C|                        20|\n",
            "|                Ruby|                        11|\n",
            "|              Delphi|                         7|\n",
            "|                   R|                         3|\n",
            "|                Bash|                         3|\n",
            "+--------------------+--------------------------+\n",
            "\n",
            "+--------------------+--------------------------+\n",
            "|Programming_language|Number_of_mentions_in_2011|\n",
            "+--------------------+--------------------------+\n",
            "|                 PHP|                        97|\n",
            "|                Java|                        92|\n",
            "|          JavaScript|                        82|\n",
            "|              Python|                        35|\n",
            "|         Objective-C|                        33|\n",
            "|                   C|                        24|\n",
            "|                Ruby|                        17|\n",
            "|              Delphi|                         8|\n",
            "|                Perl|                         8|\n",
            "|                Bash|                         7|\n",
            "+--------------------+--------------------------+\n",
            "\n",
            "+--------------------+--------------------------+\n",
            "|Programming_language|Number_of_mentions_in_2012|\n",
            "+--------------------+--------------------------+\n",
            "|                 PHP|                       136|\n",
            "|          JavaScript|                       129|\n",
            "|                Java|                       124|\n",
            "|              Python|                        65|\n",
            "|         Objective-C|                        45|\n",
            "|                   C|                        27|\n",
            "|                Ruby|                        25|\n",
            "|                Bash|                         9|\n",
            "|                   R|                         9|\n",
            "|              MATLAB|                         6|\n",
            "+--------------------+--------------------------+\n",
            "\n",
            "+--------------------+--------------------------+\n",
            "|Programming_language|Number_of_mentions_in_2013|\n",
            "+--------------------+--------------------------+\n",
            "|          JavaScript|                       196|\n",
            "|                Java|                       191|\n",
            "|                 PHP|                       173|\n",
            "|              Python|                        87|\n",
            "|         Objective-C|                        40|\n",
            "|                   C|                        36|\n",
            "|                Ruby|                        30|\n",
            "|                   R|                        25|\n",
            "|                Bash|                        11|\n",
            "|               Scala|                        10|\n",
            "+--------------------+--------------------------+\n",
            "\n",
            "+--------------------+--------------------------+\n",
            "|Programming_language|Number_of_mentions_in_2014|\n",
            "+--------------------+--------------------------+\n",
            "|          JavaScript|                       235|\n",
            "|                Java|                       228|\n",
            "|                 PHP|                       154|\n",
            "|              Python|                       103|\n",
            "|                   C|                        52|\n",
            "|         Objective-C|                        49|\n",
            "|                   R|                        28|\n",
            "|                Ruby|                        20|\n",
            "|              MATLAB|                        16|\n",
            "|                Bash|                        13|\n",
            "+--------------------+--------------------------+\n",
            "\n",
            "+--------------------+--------------------------+\n",
            "|Programming_language|Number_of_mentions_in_2015|\n",
            "+--------------------+--------------------------+\n",
            "|          JavaScript|                       270|\n",
            "|                Java|                       208|\n",
            "|                 PHP|                       147|\n",
            "|              Python|                       119|\n",
            "|                   R|                        43|\n",
            "|                   C|                        38|\n",
            "|         Objective-C|                        30|\n",
            "|                Ruby|                        20|\n",
            "|              MATLAB|                        16|\n",
            "|               Scala|                        13|\n",
            "+--------------------+--------------------------+\n",
            "\n",
            "+--------------------+--------------------------+\n",
            "|Programming_language|Number_of_mentions_in_2016|\n",
            "+--------------------+--------------------------+\n",
            "|          JavaScript|                       271|\n",
            "|                Java|                       178|\n",
            "|              Python|                       140|\n",
            "|                 PHP|                       126|\n",
            "|                   R|                        50|\n",
            "|                   C|                        32|\n",
            "|                Ruby|                        21|\n",
            "|                Bash|                        16|\n",
            "|               Scala|                        16|\n",
            "|              MATLAB|                        15|\n",
            "+--------------------+--------------------------+\n",
            "\n",
            "+--------------------+--------------------------+\n",
            "|Programming_language|Number_of_mentions_in_2017|\n",
            "+--------------------+--------------------------+\n",
            "|          JavaScript|                       244|\n",
            "|                Java|                       204|\n",
            "|              Python|                       185|\n",
            "|                 PHP|                       122|\n",
            "|                   R|                        53|\n",
            "|                   C|                        24|\n",
            "|         Objective-C|                        19|\n",
            "|                Ruby|                        16|\n",
            "|          TypeScript|                        14|\n",
            "|          PowerShell|                        14|\n",
            "+--------------------+--------------------------+\n",
            "\n",
            "+--------------------+--------------------------+\n",
            "|Programming_language|Number_of_mentions_in_2018|\n",
            "+--------------------+--------------------------+\n",
            "|              Python|                       214|\n",
            "|          JavaScript|                       194|\n",
            "|                Java|                       145|\n",
            "|                 PHP|                        99|\n",
            "|                   R|                        63|\n",
            "|                   C|                        24|\n",
            "|               Scala|                        22|\n",
            "|          TypeScript|                        21|\n",
            "|          PowerShell|                        13|\n",
            "|                Bash|                        12|\n",
            "+--------------------+--------------------------+\n",
            "\n",
            "+--------------------+--------------------------+\n",
            "|Programming_language|Number_of_mentions_in_2019|\n",
            "+--------------------+--------------------------+\n",
            "|              Python|                       162|\n",
            "|          JavaScript|                       131|\n",
            "|                Java|                        95|\n",
            "|                 PHP|                        59|\n",
            "|                   R|                        36|\n",
            "|                   C|                        14|\n",
            "|                  Go|                         9|\n",
            "|              MATLAB|                         9|\n",
            "|                Dart|                         9|\n",
            "|                Bash|                         8|\n",
            "+--------------------+--------------------------+\n",
            "\n"
          ]
        }
      ]
    },
    {
      "cell_type": "markdown",
      "source": [
        "## Задание 2. Сохранение отчетов."
      ],
      "metadata": {
        "id": "4M-YtJfjpj9V"
      }
    },
    {
      "cell_type": "code",
      "source": [
        "for year in selection_prog_language.keys():\n",
        "    save_path = f\"/content/drive/MyDrive/top/top_{year}\"\n",
        "\n",
        "    if os.path.exists(save_path):\n",
        "        print(f\"Файл {save_path} уже существует.\")\n",
        "    else:\n",
        "        selection_prog_language[year].write.format(\"parquet\").save(save_path)\n",
        "        print(f\"Сохранено в файл {save_path}.\")"
      ],
      "metadata": {
        "id": "nisL88eInls1",
        "colab": {
          "base_uri": "https://localhost:8080/"
        },
        "outputId": "54183da8-fbf7-49f3-de8f-a226aded15d1"
      },
      "execution_count": 21,
      "outputs": [
        {
          "output_type": "stream",
          "name": "stdout",
          "text": [
            "Файл /content/drive/MyDrive/top/top_2010 уже существует.\n",
            "Файл /content/drive/MyDrive/top/top_2011 уже существует.\n",
            "Файл /content/drive/MyDrive/top/top_2012 уже существует.\n",
            "Файл /content/drive/MyDrive/top/top_2013 уже существует.\n",
            "Файл /content/drive/MyDrive/top/top_2014 уже существует.\n",
            "Файл /content/drive/MyDrive/top/top_2015 уже существует.\n",
            "Файл /content/drive/MyDrive/top/top_2016 уже существует.\n",
            "Файл /content/drive/MyDrive/top/top_2017 уже существует.\n",
            "Файл /content/drive/MyDrive/top/top_2018 уже существует.\n",
            "Файл /content/drive/MyDrive/top/top_2019 уже существует.\n"
          ]
        }
      ]
    },
    {
      "cell_type": "code",
      "source": [],
      "metadata": {
        "id": "SvOUO5DSKVcK"
      },
      "execution_count": null,
      "outputs": []
    }
  ]
}